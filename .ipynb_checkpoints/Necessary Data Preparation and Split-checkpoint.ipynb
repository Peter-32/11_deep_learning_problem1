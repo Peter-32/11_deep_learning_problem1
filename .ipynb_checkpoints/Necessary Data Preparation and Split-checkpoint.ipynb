{
 "cells": [
  {
   "cell_type": "code",
   "execution_count": 2,
   "metadata": {},
   "outputs": [],
   "source": [
    "# Imports\n",
    "import pandas as pd\n",
    "from numpy.random import seed\n",
    "from sklearn.model_selection import train_test_split\n",
    "\n",
    "# Necessary data preparation\n",
    "df1 = pd.read_csv(\"data_raw/2018-personality-data.csv\")\n",
    "df2 = pd.read_csv(\"data_raw/2018_ratings.csv\")\n",
    "df1 = df1[['userid', ' openness', ' agreeableness', ' emotional_stability',\n",
    "       ' conscientiousness', ' extraversion', ' assigned metric',\n",
    "       ' assigned condition']]\n",
    "df2.drop([' tstamp '], axis=1, inplace=True)\n",
    "df1.columns = [x.strip() for x in df1.columns]\n",
    "df2.columns = [x.strip() for x in df2.columns]\n",
    "df1.drop_duplicates(subset=['userid'], keep='first', inplace=True)\n",
    "df2.drop_duplicates(subset=['useri', 'movie_id'], keep='last', inplace=True)\n",
    "df2.rename(columns={'useri': 'userid'}, inplace=True)\n",
    "df = df2.join(df1.set_index('userid'), on='userid', how='left')\n",
    "\n",
    "# Write\n",
    "df.to_csv(\"data_interim/df.csv\", index=False)\n",
    "\n",
    "# Split\n",
    "seed(32)\n",
    "split_size = 0.4 if df.shape[0] < 100000 else 40000/df.shape[0]\n",
    "train, temp = train_test_split(df, test_size=split_size)\n",
    "dev, test = train_test_split(df, test_size=0.50)\n",
    "\n",
    "# Write\n",
    "train.to_csv(\"data_interim/train.csv\", index=False)\n",
    "dev.to_csv(\"data_interim/dev.csv\", index=False)\n",
    "test.to_csv(\"data_interim/test.csv\", index=False)\n"
   ]
  },
  {
   "cell_type": "code",
   "execution_count": null,
   "metadata": {},
   "outputs": [],
   "source": []
  }
 ],
 "metadata": {
  "kernelspec": {
   "display_name": "commons",
   "language": "python",
   "name": "commons"
  },
  "language_info": {
   "codemirror_mode": {
    "name": "ipython",
    "version": 3
   },
   "file_extension": ".py",
   "mimetype": "text/x-python",
   "name": "python",
   "nbconvert_exporter": "python",
   "pygments_lexer": "ipython3",
   "version": "3.8.6"
  },
  "toc": {
   "base_numbering": 1,
   "nav_menu": {},
   "number_sections": true,
   "sideBar": true,
   "skip_h1_title": false,
   "title_cell": "Table of Contents",
   "title_sidebar": "Contents",
   "toc_cell": false,
   "toc_position": {},
   "toc_section_display": true,
   "toc_window_display": false
  }
 },
 "nbformat": 4,
 "nbformat_minor": 4
}
