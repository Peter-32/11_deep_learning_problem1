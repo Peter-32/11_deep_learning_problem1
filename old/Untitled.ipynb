{
 "cells": [
  {
   "cell_type": "code",
   "execution_count": null,
   "metadata": {},
   "outputs": [],
   "source": [
    "import tensorflow as tf\n"
   ]
  },
  {
   "cell_type": "code",
   "execution_count": null,
   "metadata": {},
   "outputs": [],
   "source": [
    "int_f = tf.train.Feature(\n",
    "    int64_list=tf.train.Int64List(value=[1, 2]))\n",
    "print(repr(int_f) + '\\n')\n",
    "\n",
    "float_f = tf.train.Feature(\n",
    "    float_list=tf.train.FloatList(value=[-8.2, 5]))\n",
    "print(repr(float_f) + '\\n')\n",
    "\n",
    "bytes_f = tf.train.Feature(\n",
    "    bytes_list=tf.train.BytesList(value=[b'\\xff\\xcc', b'\\xac']))\n",
    "print(repr(bytes_f) + '\\n')\n",
    "\n",
    "str_f = tf.train.Feature(\n",
    "    bytes_list=tf.train.BytesList(value=['joe'.encode()]))\n",
    "print(repr(str_f) + '\\n')"
   ]
  },
  {
   "cell_type": "code",
   "execution_count": null,
   "metadata": {},
   "outputs": [],
   "source": [
    "f_dict = {\n",
    "    'int_vals': int_f,\n",
    "    'float_vals': float_f,\n",
    "    'bytes_vals': bytes_f,\n",
    "    'str_vals': str_f\n",
    "}\n",
    "\n",
    "features = tf.train.Features(feature=f_dict)\n",
    "print(repr(features) + '\\n')\n"
   ]
  },
  {
   "cell_type": "code",
   "execution_count": null,
   "metadata": {},
   "outputs": [],
   "source": [
    "with open('story.txt') as f:\n",
    "    words = f.read().split()\n",
    "encw = [w.encode() for w in words]\n",
    "\n",
    "words_feature = tf.train.Feature(\n",
    "    bytes_list=tf.train.BytesList(value=encw))\n",
    "print(repr(words_feature))\n",
    "\n",
    "with open('img.png', 'rb') as f:\n",
    "    img_bytes = f.read()\n",
    "\n",
    "img_feature = tf.train.Feature(\n",
    "    bytes_list=tf.train.BytesList(value=[img_bytes]))\n",
    "print(repr(img_feature))\n"
   ]
  },
  {
   "cell_type": "code",
   "execution_count": null,
   "metadata": {},
   "outputs": [],
   "source": [
    "encw = [w for w in words]\n",
    "encw\n"
   ]
  },
  {
   "cell_type": "code",
   "execution_count": null,
   "metadata": {},
   "outputs": [],
   "source": [
    "def dict_to_example(data_dict, config):\n",
    "    feature_dict = {}\n",
    "    for feature_name, value in data_dict.items():\n",
    "        feature_config = config[feature_name]\n",
    "        shape = feature_config['shape']\n",
    "        if shape == () or shape == []:\n",
    "            value = [value]\n",
    "        value_type = feature_config['type']\n",
    "        if value_type == 'int':\n",
    "            feature_dict[feature_name] = make_int_feature(value)\n",
    "        elif value_type == 'float':\n",
    "            feature_dict[feature_name] = make_float_feature(value)\n",
    "        elif value_type == 'string' or value_type == 'bytes':\n",
    "            feature_dict[feature_name] = make_bytes_feature(\n",
    "              value, value_type)\n",
    "    features = tf.train.Features(feature=feature_dict)\n",
    "    return tf.train.Example(features=features)\n"
   ]
  },
  {
   "cell_type": "code",
   "execution_count": null,
   "metadata": {},
   "outputs": [],
   "source": [
    "import tensorflow as tf\n",
    "\n",
    "ex = tf.train.Example(features=tf.train.Features(feature=f_dict))\n",
    "\n",
    "print(repr(ex))\n",
    "\n",
    "ser_ex = ex.SerializeToString()\n",
    "print(ser_ex)"
   ]
  },
  {
   "cell_type": "code",
   "execution_count": null,
   "metadata": {},
   "outputs": [],
   "source": [
    "writer = tf.python_io.TFRecordWriter('out.tfrecords')\n",
    "writer.write(ser_ex)\n",
    "writer.close()\n"
   ]
  },
  {
   "cell_type": "code",
   "execution_count": null,
   "metadata": {},
   "outputs": [],
   "source": [
    "name = tf.FixedLenFeature((), tf.string)\n",
    "jobs = tf.VarLenFeature(tf.string)\n",
    "salary = tf.FixedLenFeature(2, tf.int64, default_value=0)\n",
    "example_spec = {\n",
    "    'name': name,\n",
    "    'jobs': jobs,\n",
    "    'salary': salary\n",
    "}\n",
    "\n",
    "print(example_spec)"
   ]
  },
  {
   "cell_type": "code",
   "execution_count": null,
   "metadata": {},
   "outputs": [],
   "source": []
  }
 ],
 "metadata": {
  "kernelspec": {
   "display_name": "tensorflow",
   "language": "python",
   "name": "tensorflow"
  },
  "language_info": {
   "codemirror_mode": {
    "name": "ipython",
    "version": 3
   },
   "file_extension": ".py",
   "mimetype": "text/x-python",
   "name": "python",
   "nbconvert_exporter": "python",
   "pygments_lexer": "ipython3",
   "version": "3.5.6"
  },
  "toc": {
   "base_numbering": 1,
   "nav_menu": {},
   "number_sections": true,
   "sideBar": true,
   "skip_h1_title": false,
   "title_cell": "Table of Contents",
   "title_sidebar": "Contents",
   "toc_cell": false,
   "toc_position": {},
   "toc_section_display": true,
   "toc_window_display": false
  }
 },
 "nbformat": 4,
 "nbformat_minor": 4
}
